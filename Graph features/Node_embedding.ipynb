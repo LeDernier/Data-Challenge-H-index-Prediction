{
 "cells": [
  {
   "cell_type": "code",
   "execution_count": 160,
   "metadata": {
    "ExecuteTime": {
     "end_time": "2021-11-30T16:16:33.714705Z",
     "start_time": "2021-11-30T16:16:33.700743Z"
    }
   },
   "outputs": [],
   "source": [
    "import networkx as nx\n",
    "from node2vec import Node2Vec\n",
    "from collections import defaultdict\n",
    "import matplotlib.pyplot as plt\n",
    "import matplotlib.patches as mpatches\n",
    "import random\n",
    "import numpy as np\n",
    "from sklearn.manifold import TSNE\n",
    "from sklearn.decomposition import PCA"
   ]
  },
  {
   "cell_type": "code",
   "execution_count": 176,
   "metadata": {
    "ExecuteTime": {
     "end_time": "2021-11-30T16:24:55.202856Z",
     "start_time": "2021-11-30T16:24:54.826833Z"
    }
   },
   "outputs": [],
   "source": [
    "# Load the list of authors in the training (for testing)\n",
    "f_train = open(\"../Data/train.csv\",\"r\")\n",
    "list_lines = f_train.readlines()\n",
    "dict_h_index = {}\n",
    "\n",
    "for line in list_lines[1:]:\n",
    "    line = line.replace(\"\\n\",\"\").split(\",\",1)\n",
    "    dict_h_index[int(line[0])] = float(line[1])\n",
    "    \n",
    "num_nodes_subgraph = 100000\n",
    "nodes_subgraph = random.sample(dict_h_index.keys(),num_nodes_subgraph)\n",
    "h_index_subgraph = [dict_h_index[author_id] for author_id in nodes_subgraph]"
   ]
  },
  {
   "cell_type": "code",
   "execution_count": 177,
   "metadata": {
    "ExecuteTime": {
     "end_time": "2021-11-30T16:24:55.510105Z",
     "start_time": "2021-11-30T16:24:55.313630Z"
    }
   },
   "outputs": [
    {
     "data": {
      "text/plain": [
       "(array([1.49951e+05, 1.70460e+04, 4.58700e+03, 1.98300e+03, 4.58000e+02,\n",
       "        1.38000e+02, 5.50000e+01, 1.50000e+01, 5.00000e+00, 3.00000e+00]),\n",
       " array([  1. ,  19.6,  38.2,  56.8,  75.4,  94. , 112.6, 131.2, 149.8,\n",
       "        168.4, 187. ]),\n",
       " <a list of 10 Patch objects>)"
      ]
     },
     "execution_count": 177,
     "metadata": {},
     "output_type": "execute_result"
    },
    {
     "data": {
      "image/png": "[encoded data removed]",
      "text/plain": [
       "<Figure size 432x288 with 1 Axes>"
      ]
     },
     "metadata": {
      "needs_background": "light"
     },
     "output_type": "display_data"
    }
   ],
   "source": [
    "plt.hist(dict_h_index.values())"
   ]
  },
  {
   "cell_type": "code",
   "execution_count": 178,
   "metadata": {
    "ExecuteTime": {
     "end_time": "2021-11-30T16:25:37.870767Z",
     "start_time": "2021-11-30T16:24:55.839298Z"
    }
   },
   "outputs": [],
   "source": [
    "# Load the precomputed weighted graph\n",
    "g_w = nx.read_edgelist('graph.weighted.edgelist', nodetype=int, data=True)"
   ]
  },
  {
   "cell_type": "code",
   "execution_count": 179,
   "metadata": {
    "ExecuteTime": {
     "end_time": "2021-11-30T16:25:37.883202Z",
     "start_time": "2021-11-30T16:25:37.870767Z"
    }
   },
   "outputs": [
    {
     "name": "stdout",
     "output_type": "stream",
     "text": [
      "Some of the edges of the graph:\n",
      "\n",
      "(2002218453,1999212242,{'coauthorship': 0}) = \n",
      "(2002218453,2032640503,{'coauthorship': 0}) = \n",
      "(2002218453,2475931411,{'coauthorship': 0}) = \n",
      "(2002218453,2477743428,{'coauthorship': 0}) = \n",
      "(2002218453,2504846374,{'coauthorship': 0}) = \n",
      "(2002218453,2597456557,{'coauthorship': 1}) = \n",
      "(2002218453,2598017501,{'coauthorship': 0}) = \n",
      "(2002218453,2134271654,{'coauthorship': 0}) = \n",
      "(2002218453,2138551865,{'coauthorship': 0}) = \n",
      "(2002218453,2145694960,{'coauthorship': 0}) = \n",
      "(2002218453,2196000661,{'coauthorship': 0}) = \n"
     ]
    }
   ],
   "source": [
    "print('Some of the edges of the graph:\\n')\n",
    "count = 0\n",
    "for (u,v,d) in g_w.edges(data=True):\n",
    "    if(count > 10):\n",
    "        break\n",
    "    print(\"({0},{1},{2}) = \".format(u,v,d))\n",
    "    count += 1"
   ]
  },
  {
   "cell_type": "code",
   "execution_count": 180,
   "metadata": {
    "ExecuteTime": {
     "end_time": "2021-11-30T16:25:37.977509Z",
     "start_time": "2021-11-30T16:25:37.896398Z"
    }
   },
   "outputs": [],
   "source": [
    "# Generate a subgraph for testing\n",
    "sg_w = g_w.subgraph(nodes_subgraph)"
   ]
  },
  {
   "cell_type": "code",
   "execution_count": 181,
   "metadata": {
    "ExecuteTime": {
     "end_time": "2021-11-30T16:25:40.104546Z",
     "start_time": "2021-11-30T16:25:37.979449Z"
    }
   },
   "outputs": [
    {
     "name": "stdout",
     "output_type": "stream",
     "text": [
      "Number of nodes: 100000\n",
      "Number of edges: 579592\n",
      "Some of the edges of the subgraph:\n",
      "\n",
      "(2811232256,77003035,{'coauthorship': 0}) = \n",
      "(2811232256,321188025,{'coauthorship': 0}) = \n",
      "(2811232256,1587633846,{'coauthorship': 0}) = \n",
      "(2811232256,2017813316,{'coauthorship': 1}) = \n",
      "(2226913280,2043636978,{'coauthorship': 0}) = \n",
      "(2226913280,2091351895,{'coauthorship': 1}) = \n",
      "(2226913280,2200079295,{'coauthorship': 1}) = \n",
      "(1268514819,2079639830,{'coauthorship': 1}) = \n",
      "(1268514819,2312076978,{'coauthorship': 1}) = \n",
      "(1268514819,1823577077,{'coauthorship': 1}) = \n",
      "(1268514819,599369682,{'coauthorship': 1}) = \n"
     ]
    }
   ],
   "source": [
    "n_nodes = sg_w.number_of_nodes()\n",
    "n_edges = sg_w.number_of_edges()\n",
    "\n",
    "print('Number of nodes:', n_nodes)\n",
    "print('Number of edges:', n_edges)\n",
    "\n",
    "print('Some of the edges of the subgraph:\\n')\n",
    "count = 0\n",
    "for (u,v,d) in sg_w.edges(data=True):\n",
    "    if(count > 10):\n",
    "        break\n",
    "    print(\"({0},{1},{2}) = \".format(u,v,d))\n",
    "    count += 1"
   ]
  },
  {
   "cell_type": "code",
   "execution_count": 182,
   "metadata": {
    "ExecuteTime": {
     "end_time": "2021-11-30T16:25:40.277755Z",
     "start_time": "2021-11-30T16:25:40.107537Z"
    }
   },
   "outputs": [
    {
     "data": {
      "text/plain": [
       "(array([8.6003e+04, 9.8200e+03, 2.6410e+03, 1.1300e+03, 2.7700e+02,\n",
       "        7.9000e+01, 3.5000e+01, 9.0000e+00, 3.0000e+00, 3.0000e+00]),\n",
       " array([  1. ,  19.6,  38.2,  56.8,  75.4,  94. , 112.6, 131.2, 149.8,\n",
       "        168.4, 187. ]),\n",
       " <a list of 10 Patch objects>)"
      ]
     },
     "execution_count": 182,
     "metadata": {},
     "output_type": "execute_result"
    },
    {
     "data": {
      "image/png": "[encoded data removed]",
      "text/plain": [
       "<Figure size 432x288 with 1 Axes>"
      ]
     },
     "metadata": {
      "needs_background": "light"
     },
     "output_type": "display_data"
    }
   ],
   "source": [
    "plt.hist(h_index_subgraph)"
   ]
  },
  {
   "cell_type": "code",
   "execution_count": null,
   "metadata": {
    "ExecuteTime": {
     "start_time": "2021-11-30T16:24:57.573Z"
    }
   },
   "outputs": [
    {
     "data": {
      "application/vnd.jupyter.widget-view+json": {
       "model_id": "ed6483d798dc455193bd5a44b07b34c4",
       "version_major": 2,
       "version_minor": 0
      },
      "text/plain": [
       "HBox(children=(FloatProgress(value=0.0, description='Computing transition probabilities', max=100000.0, style=…"
      ]
     },
     "metadata": {},
     "output_type": "display_data"
    },
    {
     "name": "stderr",
     "output_type": "stream",
     "text": [
      "\r",
      "Generating walks (CPU: 1):   0%|                                                               | 0/100 [00:00<?, ?it/s]"
     ]
    },
    {
     "name": "stdout",
     "output_type": "stream",
     "text": [
      "\n"
     ]
    },
    {
     "name": "stderr",
     "output_type": "stream",
     "text": [
      "Generating walks (CPU: 1):  33%|█████████████████▏                                  | 33/100 [32:38<1:04:06, 57.41s/it]"
     ]
    }
   ],
   "source": [
    "# Precompute probabilities and generate walks\n",
    "node2vec = Node2Vec(sg_w, dimensions=20, walk_length=16, num_walks=100, workers=1)"
   ]
  },
  {
   "cell_type": "code",
   "execution_count": null,
   "metadata": {
    "ExecuteTime": {
     "start_time": "2021-11-30T16:24:57.806Z"
    }
   },
   "outputs": [],
   "source": [
    "model = node2vec.fit(window=10, min_count=1)"
   ]
  },
  {
   "cell_type": "code",
   "execution_count": null,
   "metadata": {
    "ExecuteTime": {
     "start_time": "2021-11-30T16:24:58.044Z"
    }
   },
   "outputs": [],
   "source": [
    "model.wv.most_similar(str(nodes_subgraph[0]))"
   ]
  },
  {
   "cell_type": "code",
   "execution_count": null,
   "metadata": {
    "ExecuteTime": {
     "start_time": "2021-11-30T16:24:58.265Z"
    }
   },
   "outputs": [],
   "source": [
    "nodes_subgraph_str = [str(author_id) for author_id in nodes_subgraph]\n",
    "embeddings = np.array([model.wv[author_id] for author_id in nodes_subgraph_str])"
   ]
  },
  {
   "cell_type": "code",
   "execution_count": null,
   "metadata": {
    "ExecuteTime": {
     "start_time": "2021-11-30T16:24:58.477Z"
    }
   },
   "outputs": [],
   "source": [
    "tsne = TSNE(n_components=2, random_state=7, perplexity=15)\n",
    "embeddings_2d = tsne.fit_transform(embeddings)"
   ]
  },
  {
   "cell_type": "code",
   "execution_count": null,
   "metadata": {
    "ExecuteTime": {
     "start_time": "2021-11-30T16:24:58.663Z"
    }
   },
   "outputs": [],
   "source": [
    "# Assign colors to groups\n",
    "list_groups = [float(x) for x in range(25,-1,-5)]\n",
    "group_colors = {\n",
    "    '>=25.0': 'gainsboro',\n",
    "    '>=20.0': 'lightblue',\n",
    "    '>=15.0': 'b',\n",
    "    '>=10.0': 'r',\n",
    "    '>=5.0': 'teal',\n",
    "    '>=0.0': 'deepskyblue',\n",
    "}\n",
    "\n",
    "colors = []\n",
    "\n",
    "for author_id in nodes_subgraph:\n",
    "    for value in list_groups:\n",
    "        if(dict_h_index[author_id] >= value):\n",
    "            colors.append(group_colors[\">=\"+str(float(value))])\n",
    "            break"
   ]
  },
  {
   "cell_type": "code",
   "execution_count": null,
   "metadata": {
    "ExecuteTime": {
     "start_time": "2021-11-30T16:24:58.886Z"
    }
   },
   "outputs": [],
   "source": [
    "figure = plt.figure(figsize=(11, 9))\n",
    "\n",
    "ax = figure.add_subplot(111)\n",
    "\n",
    "ax.scatter(embeddings_2d[:, 0], embeddings_2d[:, 1], c=colors)\n",
    "\n",
    "# Create team patches for legend\n",
    "group_patches = [mpatches.Patch(color=color, label=group) for group, color in group_colors.items()]\n",
    "ax.legend(handles=group_patches);"
   ]
  },
  {
   "cell_type": "code",
   "execution_count": null,
   "metadata": {
    "ExecuteTime": {
     "start_time": "2021-11-30T16:24:59.191Z"
    }
   },
   "outputs": [],
   "source": [
    "pca = PCA(n_components=2)\n",
    "embeddings_pca = pca.fit_transform(embeddings)"
   ]
  },
  {
   "cell_type": "code",
   "execution_count": null,
   "metadata": {
    "ExecuteTime": {
     "start_time": "2021-11-30T16:24:59.388Z"
    }
   },
   "outputs": [],
   "source": [
    "print(pca.explained_variance_ratio_)\n",
    "print(pca.singular_values_)"
   ]
  },
  {
   "cell_type": "code",
   "execution_count": null,
   "metadata": {
    "ExecuteTime": {
     "start_time": "2021-11-30T16:24:59.606Z"
    }
   },
   "outputs": [],
   "source": [
    "figure = plt.figure(figsize=(11, 9))\n",
    "\n",
    "ax = figure.add_subplot(111)\n",
    "\n",
    "ax.scatter(embeddings_pca[:, 0], embeddings_pca[:, 1], c=colors)\n",
    "\n",
    "# Create team patches for legend\n",
    "group_patches = [mpatches.Patch(color=color, label=group) for group, color in group_colors.items()]\n",
    "ax.legend(handles=group_patches);"
   ]
  },
  {
   "cell_type": "code",
   "execution_count": null,
   "metadata": {},
   "outputs": [],
   "source": []
  }
 ],
 "metadata": {
  "kernelspec": {
   "display_name": "Python 3",
   "language": "python",
   "name": "python3"
  },
  "language_info": {
   "codemirror_mode": {
    "name": "ipython",
    "version": 3
   },
   "file_extension": ".py",
   "mimetype": "text/x-python",
   "name": "python",
   "nbconvert_exporter": "python",
   "pygments_lexer": "ipython3",
   "version": "3.7.6"
  },
  "latex_envs": {
   "LaTeX_envs_menu_present": true,
   "autoclose": false,
   "autocomplete": false,
   "bibliofile": "biblio.bib",
   "cite_by": "apalike",
   "current_citInitial": 1,
   "eqLabelWithNumbers": true,
   "eqNumInitial": 1,
   "hotkeys": {
    "equation": "Ctrl-E",
    "itemize": "Ctrl-I"
   },
   "labels_anchors": false,
   "latex_user_defs": false,
   "report_style_numbering": false,
   "user_envs_cfg": false
  }
 },
 "nbformat": 4,
 "nbformat_minor": 4
}
