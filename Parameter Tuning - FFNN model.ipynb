{
 "cells": [
  {
   "cell_type": "code",
   "execution_count": 65,
   "metadata": {
    "ExecuteTime": {
     "end_time": "2021-12-07T14:51:12.643891Z",
     "start_time": "2021-12-07T14:51:10.992340Z"
    }
   },
   "outputs": [],
   "source": [
    "import pandas as pd\n",
    "import numpy as np\n",
    "import matplotlib.pyplot as plt\n",
    "from sklearn.preprocessing import StandardScaler\n",
    "from sklearn.model_selection import train_test_split\n",
    "from sklearn.metrics import mean_squared_error,accuracy_score\n",
    "\n",
    "import torch\n",
    "import torch.nn as nn"
   ]
  },
  {
   "cell_type": "markdown",
   "metadata": {},
   "source": [
    "### 1. Data loading and data frame creation\n",
    "\n",
    "The code in this section must be executed together, even if it is divided into different cells."
   ]
  },
  {
   "cell_type": "code",
   "execution_count": 49,
   "metadata": {
    "ExecuteTime": {
     "end_time": "2021-12-07T14:40:10.701405Z",
     "start_time": "2021-12-07T14:40:09.027548Z"
    }
   },
   "outputs": [
    {
     "name": "stdout",
     "output_type": "stream",
     "text": [
      "n_train: 174241, n_test: 43560\n"
     ]
    }
   ],
   "source": [
    "# read author id and h_index for training\n",
    "df_train = pd.read_csv('../Data/train.csv', dtype={'author': np.int64,'h_index': np.float32})\n",
    "df_test = pd.read_csv('../Data/test.csv', index_col=0, dtype={'author': np.int64})\n",
    "n_train = df_train.shape[0]\n",
    "n_test = df_test.shape[0]\n",
    "print(\"n_train: {0}, n_test: {1}\".format(n_train,n_test))"
   ]
  },
  {
   "cell_type": "code",
   "execution_count": 50,
   "metadata": {
    "ExecuteTime": {
     "end_time": "2021-12-07T14:40:14.259537Z",
     "start_time": "2021-12-07T14:40:10.701405Z"
    }
   },
   "outputs": [
    {
     "name": "stdout",
     "output_type": "stream",
     "text": [
      "Loaded data.\n"
     ]
    }
   ],
   "source": [
    "# read author embedding from graph nodes\n",
    "dim_embeddings = 20\n",
    "cols_embeddings = [\"n_embedding_\"+str(i) for i in range(dim_embeddings)]\n",
    "dict_dtype = {'author_id':np.int64}\n",
    "for i in range(dim_embeddings):\n",
    "    dict_dtype['n_embeddings_'+str(i)] = np.float32\n",
    "df_node_emb=pd.read_csv(\"../Data/node_embeddings_20.csv\",sep=',',dtype=dict_dtype)\n",
    "\n",
    "# read author embedding from abstracts\n",
    "dim_embeddings = 64\n",
    "cols_embeddings = [\"at_embedding_\"+str(i) for i in range(dim_embeddings)]\n",
    "dict_dtype = {'author_id':np.int64}\n",
    "for i in range(dim_embeddings):\n",
    "    dict_dtype['at_embeddings_'+str(i)] = np.float32\n",
    "df_author_emb=pd.read_csv(\"../Data/author_embeddings_64.csv\",dtype=dict_dtype)\n",
    "\n",
    "\n",
    "# version 1 of graph features\n",
    "dict_dtype = {'author_id':np.int64,'core_number':np.float32,'clustering_coef':np.float32,\n",
    "             'betweeness_coef':np.float32,'centrality':np.float32,'page_rank':np.float32,\n",
    "              'clustering_coef_coauthorship':np.float32,'betweeness_coef_coauthorship':np.float32,\n",
    "              'centrality_coauthorship':np.float32,'page_rank_coauthorship':np.float32}\n",
    "df_graph_feat=pd.read_csv(\"../Data/graph_features.csv\", dtype=dict_dtype)\n",
    "'''\n",
    "# version 2 of graph features\n",
    "dict_dtype = {'author_id':np.int64,'core_number':np.float32,'clustering_coef':np.float32,\n",
    "             'betweeness_coef':np.float32,'centrality':np.float32,'page_rank':np.float32,\n",
    "              'clustering_coef_coauthorship':np.float32,'betweeness_coef_coauthorship':np.float32,\n",
    "              'centrality_coauthorship':np.float32,'page_rank_coauthorship':np.float32,\n",
    "              'degree':np.int32,'weighted_degree':np.float32,'onion_number':np.float32\n",
    "              }\n",
    "df_graph_feat=pd.read_csv(\"../Data/graph_features_v2.csv\", dtype=dict_dtype)\n",
    "'''\n",
    "\n",
    "print(\"Loaded data.\")"
   ]
  },
  {
   "cell_type": "code",
   "execution_count": 51,
   "metadata": {
    "ExecuteTime": {
     "end_time": "2021-12-07T14:40:15.626795Z",
     "start_time": "2021-12-07T14:40:14.259537Z"
    }
   },
   "outputs": [
    {
     "name": "stdout",
     "output_type": "stream",
     "text": [
      "Column names X_train: \n",
      " ['n_embedding_0', 'n_embedding_1', 'n_embedding_2', 'n_embedding_3', 'n_embedding_4', 'n_embedding_5', 'n_embedding_6', 'n_embedding_7', 'n_embedding_8', 'n_embedding_9', 'n_embedding_10', 'n_embedding_11', 'n_embedding_12', 'n_embedding_13', 'n_embedding_14', 'n_embedding_15', 'n_embedding_16', 'n_embedding_17', 'n_embedding_18', 'n_embedding_19', 'at_embedding_0', 'at_embedding_1', 'at_embedding_2', 'at_embedding_3', 'at_embedding_4', 'at_embedding_5', 'at_embedding_6', 'at_embedding_7', 'at_embedding_8', 'at_embedding_9', 'at_embedding_10', 'at_embedding_11', 'at_embedding_12', 'at_embedding_13', 'at_embedding_14', 'at_embedding_15', 'at_embedding_16', 'at_embedding_17', 'at_embedding_18', 'at_embedding_19', 'at_embedding_20', 'at_embedding_21', 'at_embedding_22', 'at_embedding_23', 'at_embedding_24', 'at_embedding_25', 'at_embedding_26', 'at_embedding_27', 'at_embedding_28', 'at_embedding_29', 'at_embedding_30', 'at_embedding_31', 'at_embedding_32', 'at_embedding_33', 'at_embedding_34', 'at_embedding_35', 'at_embedding_36', 'at_embedding_37', 'at_embedding_38', 'at_embedding_39', 'at_embedding_40', 'at_embedding_41', 'at_embedding_42', 'at_embedding_43', 'at_embedding_44', 'at_embedding_45', 'at_embedding_46', 'at_embedding_47', 'at_embedding_48', 'at_embedding_49', 'at_embedding_50', 'at_embedding_51', 'at_embedding_52', 'at_embedding_53', 'at_embedding_54', 'at_embedding_55', 'at_embedding_56', 'at_embedding_57', 'at_embedding_58', 'at_embedding_59', 'at_embedding_60', 'at_embedding_61', 'at_embedding_62', 'at_embedding_63', 'core_number', 'clustering_coef', 'betweeness_coef', 'centrality', 'page_rank']\n",
      "Created X,y for training.\n",
      "Dimensions of X_train:  (174241, 89)\n",
      "Dimensions of y_train:  (174241,)\n",
      "\n",
      "Column names X_test: \n",
      " ['n_embedding_0', 'n_embedding_1', 'n_embedding_2', 'n_embedding_3', 'n_embedding_4', 'n_embedding_5', 'n_embedding_6', 'n_embedding_7', 'n_embedding_8', 'n_embedding_9', 'n_embedding_10', 'n_embedding_11', 'n_embedding_12', 'n_embedding_13', 'n_embedding_14', 'n_embedding_15', 'n_embedding_16', 'n_embedding_17', 'n_embedding_18', 'n_embedding_19', 'at_embedding_0', 'at_embedding_1', 'at_embedding_2', 'at_embedding_3', 'at_embedding_4', 'at_embedding_5', 'at_embedding_6', 'at_embedding_7', 'at_embedding_8', 'at_embedding_9', 'at_embedding_10', 'at_embedding_11', 'at_embedding_12', 'at_embedding_13', 'at_embedding_14', 'at_embedding_15', 'at_embedding_16', 'at_embedding_17', 'at_embedding_18', 'at_embedding_19', 'at_embedding_20', 'at_embedding_21', 'at_embedding_22', 'at_embedding_23', 'at_embedding_24', 'at_embedding_25', 'at_embedding_26', 'at_embedding_27', 'at_embedding_28', 'at_embedding_29', 'at_embedding_30', 'at_embedding_31', 'at_embedding_32', 'at_embedding_33', 'at_embedding_34', 'at_embedding_35', 'at_embedding_36', 'at_embedding_37', 'at_embedding_38', 'at_embedding_39', 'at_embedding_40', 'at_embedding_41', 'at_embedding_42', 'at_embedding_43', 'at_embedding_44', 'at_embedding_45', 'at_embedding_46', 'at_embedding_47', 'at_embedding_48', 'at_embedding_49', 'at_embedding_50', 'at_embedding_51', 'at_embedding_52', 'at_embedding_53', 'at_embedding_54', 'at_embedding_55', 'at_embedding_56', 'at_embedding_57', 'at_embedding_58', 'at_embedding_59', 'at_embedding_60', 'at_embedding_61', 'at_embedding_62', 'at_embedding_63', 'core_number', 'clustering_coef', 'betweeness_coef', 'centrality', 'page_rank']\n",
      "Created X,y for testing.\n",
      "Dimensions of X_test:  (43560, 89)\n",
      "Dimensions of y_test:  (43560,)\n"
     ]
    }
   ],
   "source": [
    "# create the training dataframe.\n",
    "df_train = df_train.merge(df_node_emb, left_on=\"author\", right_on=\"author_id\")\n",
    "df_train = df_train.merge(df_author_emb, left_on=\"author\", right_on=\"author_id\")\n",
    "df_train = df_train.merge(df_graph_feat, left_on=\"author\", right_on=\"author_id\")\n",
    "\n",
    "X_id_train = df_train[\"author\"].values\n",
    "y_train = df_train[\"hindex\"].values\n",
    "\n",
    "\n",
    "features_to_drop = [\"author\",\"hindex\",\"author_id_x\",\"author_id_y\",\n",
    "                    \"clustering_coef_coauthorship\",\"betweeness_coef_coauthorship\",\n",
    "                    \"centrality_coauthorship\",\"page_rank_coauthorship\",\"author_id\"]\n",
    "'''\n",
    "features_to_drop = [\"author\",\"hindex\",\"author_id_x\",\"author_id_y\",\n",
    "                    \"betweeness_coef_coauthorship\",\n",
    "                    \"author_id\"]\n",
    "'''\n",
    "\n",
    "df_train = df_train.drop(features_to_drop,axis=1)\n",
    "X_train = df_train.values\n",
    "print(\"Column names X_train: \\n\",df_train.columns.tolist())\n",
    "print(\"Created X,y for training.\")\n",
    "print(\"Dimensions of X_train: \",X_train.shape)\n",
    "print(\"Dimensions of y_train: \",y_train.shape)\n",
    "\n",
    "# create the test dataframe. \n",
    "df_test = df_test.merge(df_node_emb, left_on=\"author\", right_on=\"author_id\")\n",
    "df_test = df_test.merge(df_author_emb, left_on=\"author\", right_on=\"author_id\")\n",
    "df_test = df_test.merge(df_graph_feat, left_on=\"author\", right_on=\"author_id\")\n",
    "\n",
    "X_id_test = df_test[\"author\"].values\n",
    "y_test = df_test[\"hindex\"].values\n",
    "\n",
    "df_test = df_test.drop(features_to_drop,axis=1)\n",
    "X_test = df_test.values\n",
    "print(\"\\nColumn names X_test: \\n\",df_test.columns.tolist())\n",
    "print(\"Created X,y for testing.\")\n",
    "print(\"Dimensions of X_test: \",X_test.shape)\n",
    "print(\"Dimensions of y_test: \",y_test.shape)"
   ]
  },
  {
   "cell_type": "code",
   "execution_count": 139,
   "metadata": {
    "ExecuteTime": {
     "end_time": "2021-12-07T18:54:33.735163Z",
     "start_time": "2021-12-07T18:54:33.581578Z"
    },
    "scrolled": true
   },
   "outputs": [],
   "source": [
    "## feed-forward neural network (ffnn)\n",
    "\n",
    "def ffnn(X_train, y_train,metrics:list=['mean_squared_error'], \n",
    "                     transformation=None,transformation_inv=None,\n",
    "                     val_size=0.25,seed=2,units_hidden_layers:list=[25,5],\n",
    "                     activation_function=nn.LeakyReLU(0.1),loss_function=nn.MSELoss(),\n",
    "                     learning_rate=0.01,dropout_rate=0.05,num_epochs=5000):\n",
    "    '''\n",
    "    X_train:training data with dependent variables. It can be a dataframe or a numpy matrix.\n",
    "    y_train: training data with independent variable (h-index). It can be a dataframe or a numpy matrix.\n",
    "    metrics: metrics to calculate the model performance. It is a list of strings. Only 'mse' and 'accuracy' supported.\n",
    "    transformation: a function to apply to the partitions of y_train.\n",
    "    transformation_inv: the inverse of transformation. It is applied to the predictions of the y_train partitions.\n",
    "    val_size: proportion of the y_train to include y_val.\n",
    "    seed: random number seed.\n",
    "    units_hidden_layers: list of units in each hidden layer. Currently two hidden layers supported.\n",
    "    activation_function: activation function to be used for the output of all the hidden layers.\n",
    "    dropout_rate: droptout rate. It turn off some neurons randomly.\n",
    "    num_epochs: number of epochs in the training phase.\n",
    "    '''\n",
    "    \n",
    "    y_train = y_train.reshape(-1,1)\n",
    "    \n",
    "    \n",
    "\n",
    "    # split training data for validation purposes\n",
    "    X_tr, X_val, y_tr, y_val = train_test_split(X_train, y_train, test_size=val_size, random_state=seed) \n",
    "    \n",
    "    # save a copy of the data\n",
    "    X_tr_orig = np.copy(X_tr)\n",
    "    X_val_orig = np.copy(X_val)\n",
    "    y_tr_orig = np.copy(y_tr)\n",
    "    y_val_orig = np.copy(y_val)\n",
    "    \n",
    "    # standardize features by removing the mean and scaling to unit variance\n",
    "    \n",
    "    scaler_x = StandardScaler()\n",
    "    scaler_x.fit(X_tr)\n",
    "    X_tr = scaler_x.transform(X_tr)\n",
    "    X_val = scaler_x.transform(X_val)\n",
    "    \n",
    "    scaler_y = StandardScaler()\n",
    "    scaler_y.fit(y_train)\n",
    "    y_tr = scaler_y.transform(y_tr)\n",
    "    y_val = scaler_y.transform(y_val)\n",
    "    \n",
    "    if(transformation is not None):\n",
    "        try:\n",
    "            y_tr = transformation(y_tr)\n",
    "            y_val = transformation(y_val)\n",
    "        except:\n",
    "            pass\n",
    "    \n",
    "    # speed the computations using a GPU if available\n",
    "    device = torch.device(\"cuda:0\" if torch.cuda.is_available() else \"cpu\")\n",
    "    \n",
    "    # convert the data from Numpy arrays to Tensors\n",
    "    X_tr = torch.from_numpy(X_tr).float().to(device)\n",
    "    X_val = torch.from_numpy(X_val).float().to(device)\n",
    "    y_tr = torch.from_numpy(y_tr).float().to(device)\n",
    "    y_val = torch.from_numpy(y_val).float().to(device)\n",
    "    \n",
    "    # create the model and send it to the fastest available device\n",
    "    model = nn.Sequential(\n",
    "    nn.Linear(X_train.shape[1], units_hidden_layers[0], bias=True),\n",
    "    activation_function,\n",
    "    nn.Dropout(dropout_rate),\n",
    "    nn.Linear(units_hidden_layers[0], units_hidden_layers[1], bias=True),\n",
    "    activation_function,\n",
    "    nn.Linear(units_hidden_layers[1], 1, bias=True),\n",
    "    nn.ReLU()\n",
    "    )\n",
    "    model.to(device)\n",
    "    \n",
    "    # initialize weights randomly\n",
    "    def init_weights(mod):\n",
    "        if isinstance(mod, nn.Linear):\n",
    "            nn.init.xavier_uniform_(mod.weight)\n",
    "            mod.bias.data.fill_(0.01)\n",
    "    \n",
    "    model.apply(init_weights)\n",
    "    \n",
    "    # choose the loss function and the optimizer\n",
    "    loss_function = loss_function\n",
    "    #optimizer = torch.optim.SGD(model.parameters(), lr=learning_rate, momentum=momentum)\n",
    "    optimizer = torch.optim.Adam(model.parameters(), lr=learning_rate)\n",
    "    \n",
    "    # init performance measures\n",
    "    list_losses_tr = []\n",
    "    list_losses_val = []\n",
    "    list_accuracy_tr = []\n",
    "    list_accuracy_val = []\n",
    "    \n",
    "    for epoch in range(num_epochs):\n",
    "        y_pred_tr=model.forward(X_tr)\n",
    "        loss_tr = loss_function(y_pred_tr, y_tr)\n",
    "        optimizer.zero_grad() # required since pytorch accumulates the gradients\n",
    "        loss_tr.backward() # backpropagation step\n",
    "        optimizer.step() # update the parameters\n",
    "            \n",
    "        # update loss and accuracy on train and test\n",
    "        y_pred_val=model.forward(X_val)\n",
    "        loss_val = loss_function(y_pred_val, y_val)\n",
    "        \n",
    "        with torch.no_grad():\n",
    "            if('mean_squared_error' in metrics):\n",
    "                list_losses_tr.append(loss_tr.data)\n",
    "                list_losses_val.append(loss_val.data)\n",
    "            if('accuracy' in metrics):\n",
    "                list_accuracy_tr.append(accuracy_score(y_tr.cpu(), y_pred_tr.cpu()))\n",
    "                list_accuracy_val.append(accuracy_score(y_val.cpu(), y_pred_val.cpu()))\n",
    "        \n",
    "        # print results from time to time (fixed frequency)\n",
    "        if(epoch % int(num_epochs/5) == 0):\n",
    "            print('Epoch: {0},\\tLoss train: {1},\\tLoss val: {2}'.format(epoch,round(loss_tr.cpu().data.item(),5),round(loss_val.cpu().data.item(),5)))\n",
    "        \n",
    "    \n",
    "    with torch.no_grad():\n",
    "    \n",
    "        if(transformation_inv is not None):\n",
    "            try:\n",
    "                y_pred_tr = transformation_inv(y_pred_tr.cpu())\n",
    "                y_pred_val = transformation_inv(y_pred_val.cpu())\n",
    "            except:\n",
    "                pass\n",
    "        config = \"learning_rate: \"+str(learning_rate)+\", val_size: \"+str(val_size)\n",
    "        config += \", dropout_rate: \"+str(dropout_rate)+\", activation_function: \"\n",
    "        config += str(activation_function)+\", units_hidden_layers: \"+str(units_hidden_layers)\n",
    "        \n",
    "        mse_tr = -1\n",
    "        mse_val = -1\n",
    "        \n",
    "        print(\"\\nConfig:\",config)\n",
    "        if('mean_squared_error' in metrics):\n",
    "            mse_tr = mean_squared_error(y_tr_orig,scaler_y.inverse_transform(y_pred_tr.cpu()))\n",
    "            mse_val = mean_squared_error(y_val_orig,scaler_y.inverse_transform(y_pred_val.cpu()))\n",
    "            print(\"FFNN mean_squared_error on train:\",mse_tr)\n",
    "            print(\"FFNN mean_squared_error on test:\",mse_val)\n",
    "        if('accuracy' in metrics):\n",
    "            print(\"FFNN accuracy on train:\",accuracy_score(y_tr.cpu(), y_pred_tr.cpu()))\n",
    "            print(\"FFNN accuracy on test with:\",accuracy_score(y_val.cpu(), y_pred_val.cpu()))\n",
    "        \n",
    "        null_vect = torch.Tensor(np.zeros((1,len(X_tr[0])))).float().to(device)\n",
    "        print(\"Prediction of null features: \",model.forward(null_vect).cpu()[0][0])\n",
    "    \n",
    "    return model,list_losses_tr,list_losses_val,config,mse_tr,mse_val"
   ]
  },
  {
   "cell_type": "code",
   "execution_count": null,
   "metadata": {},
   "outputs": [],
   "source": [
    "learning_rate = [1,1e-1,1e-2]\n",
    "val_size = [0.2,0.25]\n",
    "dropout_rate = [0.1,0.2]\n",
    "activation_function = [nn.LeakyReLU(0.1),nn.ReLU(),nn.Tanh()]\n",
    "units_hidden_layers=[[25,5],[20,4]]\n",
    "\n",
    "list_config = []\n",
    "list_mse_tr = []\n",
    "list_mse_val = []\n",
    "\n",
    "\n",
    "for l_r in learning_rate:\n",
    "    for v_s in val_size:\n",
    "        for d_r in dropout_rate:\n",
    "            for a_f in activation_function:\n",
    "                for uhl in units_hidden_layers:   \n",
    "                    _,mse_tr,mse_val,config,_,_ = ffnn(X_train,y_train,val_size=v_s,learning_rate=l_r,\n",
    "                                                   dropout_rate=d_r,activation_function=a_f,\n",
    "                                                   units_hidden_layers=uhl)\n",
    "                    list_config.append(config)\n",
    "                    list_mse_tr.append(mse_tr[len(mse_tr)-1])\n",
    "                    list_mse_val.append(mse_tr[len(mse_val)-1])\n",
    "\n",
    "#ffnn(X_train, y_train, transformation=np.log10,transformation_inv=lambda array: np.power(10,array))"
   ]
  },
  {
   "cell_type": "code",
   "execution_count": 143,
   "metadata": {
    "ExecuteTime": {
     "end_time": "2021-12-07T19:00:50.530950Z",
     "start_time": "2021-12-07T19:00:05.528846Z"
    }
   },
   "outputs": [
    {
     "name": "stdout",
     "output_type": "stream",
     "text": [
      "Epoch: 0,\tLoss train: 1.28546,\tLoss val: 0.79199\n",
      "Epoch: 2000,\tLoss train: 0.45862,\tLoss val: 0.53726\n",
      "Epoch: 4000,\tLoss train: 0.45729,\tLoss val: 0.54501\n",
      "Epoch: 6000,\tLoss train: 0.45542,\tLoss val: 0.54092\n",
      "Epoch: 8000,\tLoss train: 0.45557,\tLoss val: 0.54233\n",
      "\n",
      "Config: learning_rate: 0.1, val_size: 0.25, dropout_rate: 0.0, activation_function: LeakyReLU(negative_slope=0.1), units_hidden_layers: [20, 4]\n",
      "FFNN mean_squared_error on train: 72.59621406173262\n",
      "FFNN mean_squared_error on test: 86.35323041684082\n",
      "Prediction of null features:  tensor(2.2566)\n"
     ]
    }
   ],
   "source": [
    "model,list_losses_tr,list_losses_val,_,_,_ = ffnn(X_train,y_train,val_size=0.25,learning_rate=1e-1,\n",
    "                                                   dropout_rate=0.0,activation_function=nn.LeakyReLU(0.1),\n",
    "                                                   units_hidden_layers=[20,4],num_epochs=10000)"
   ]
  },
  {
   "cell_type": "code",
   "execution_count": 144,
   "metadata": {
    "ExecuteTime": {
     "end_time": "2021-12-07T19:01:10.794409Z",
     "start_time": "2021-12-07T19:01:09.364038Z"
    }
   },
   "outputs": [
    {
     "data": {
      "image/png": "[encoded data removed]",
      "text/plain": [
       "<Figure size 1152x576 with 1 Axes>"
      ]
     },
     "metadata": {
      "needs_background": "light"
     },
     "output_type": "display_data"
    }
   ],
   "source": [
    "fig, (ax1) = plt.subplots(1, 1, figsize=(16,8))\n",
    "ax1.plot([loss.cpu() for loss in list_losses_tr][:100], c='b', label='train')\n",
    "ax1.plot([loss.cpu() for loss in list_losses_val][:100], c='r', label='test')\n",
    "ax1.set_title(\"Train and validation accuracy\")\n",
    "ax1.set_xlabel(\"Iterations\")\n",
    "plt.legend()\n",
    "plt.show()"
   ]
  },
  {
   "cell_type": "code",
   "execution_count": null,
   "metadata": {},
   "outputs": [],
   "source": []
  }
 ],
 "metadata": {
  "kernelspec": {
   "display_name": "Python 3",
   "language": "python",
   "name": "python3"
  },
  "language_info": {
   "codemirror_mode": {
    "name": "ipython",
    "version": 3
   },
   "file_extension": ".py",
   "mimetype": "text/x-python",
   "name": "python",
   "nbconvert_exporter": "python",
   "pygments_lexer": "ipython3",
   "version": "3.7.6"
  },
  "latex_envs": {
   "LaTeX_envs_menu_present": true,
   "autoclose": false,
   "autocomplete": false,
   "bibliofile": "biblio.bib",
   "cite_by": "apalike",
   "current_citInitial": 1,
   "eqLabelWithNumbers": true,
   "eqNumInitial": 1,
   "hotkeys": {
    "equation": "Ctrl-E",
    "itemize": "Ctrl-I"
   },
   "labels_anchors": false,
   "latex_user_defs": false,
   "report_style_numbering": false,
   "user_envs_cfg": false
  }
 },
 "nbformat": 4,
 "nbformat_minor": 4
}
