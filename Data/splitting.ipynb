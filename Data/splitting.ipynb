{
 "cells": [
  {
   "cell_type": "code",
   "execution_count": 2,
   "metadata": {},
   "outputs": [
    {
     "data": {
      "text/plain": [
       "624181"
      ]
     },
     "execution_count": 2,
     "metadata": {},
     "output_type": "execute_result"
    }
   ],
   "source": [
    "def count_lines_txt(name:str,str_encoding:str):\n",
    "    filer = open(name,\"r\",encoding=str_encoding)\n",
    "    a=True\n",
    "    count=0\n",
    "    while a:\n",
    "        linea=filer.readline()\n",
    "        if linea==\"\":\n",
    "            a=False\n",
    "        else:\n",
    "            count+=1\n",
    "    filer.close()\n",
    "    return count\n",
    "\n",
    "count_lines_txt(\"abstracts.txt\",\"utf8\")"
   ]
  },
  {
   "cell_type": "code",
   "execution_count": 2,
   "metadata": {},
   "outputs": [
    {
     "name": "stdout",
     "output_type": "stream",
     "text": [
      "<_io.TextIOWrapper name='abstracts.txt' mode='r' encoding='utf8'>\n",
      "1\n",
      "10000  20000  30000  40000  50000  60000  70000  80000  90000  100000  104030\n",
      "2\n",
      "10000  20000  30000  40000  50000  60000  70000  80000  90000  100000  208060\n",
      "3\n",
      "10000  20000  30000  40000  50000  60000  70000  80000  90000  100000  312090\n",
      "4\n",
      "10000  20000  30000  40000  50000  60000  70000  80000  90000  100000  416120\n",
      "5\n",
      "10000  20000  30000  40000  50000  60000  70000  80000  90000  100000  520150\n",
      "6\n",
      "10000  20000  30000  40000  50000  60000  70000  80000  90000  100000  624180\n",
      "valor de i final: 6\n",
      "fin\n",
      "resto: 1\n",
      "total lines: 624181\n"
     ]
    }
   ],
   "source": [
    "def split_txt(name:str,n:int,encoding:str,total_lines:int=0):\n",
    "    if total_lines<1:\n",
    "        total_lines=count_lines_txt(name,encoding)\n",
    "    if n<2:\n",
    "        print(\"n debe ser mayor que 2\")\n",
    "    else:\n",
    "        filer = open(name,\"r\",encoding=\"utf8\")\n",
    "        print(filer)\n",
    "        count=0\n",
    "        for i in range(1,n+1):\n",
    "            print(i)\n",
    "            filew = open(name[:-4]+\"_\"+str(i)+\".txt\",\"w\",encoding=\"utf8\")\n",
    "            l=1\n",
    "            while l<=(624181//n) and count<624182:\n",
    "                if l%10000==0:\n",
    "                    print(l,end=\"  \")\n",
    "                linea=filer.readline()\n",
    "                # \\n is placed to indicate EOL (End of Line)\n",
    "                filew.write(linea)\n",
    "                count+=1\n",
    "                l+=1\n",
    "            print(count)\n",
    "            filew.close()\n",
    "        print(\"valor de i final:\",i)\n",
    "        f=0\n",
    "        a=True\n",
    "        while a and count<624182:\n",
    "            linea=filer.readline()\n",
    "            if linea==\"\":\n",
    "                print(\"fin\")\n",
    "                a=False\n",
    "            else:\n",
    "                filea = open(\"abstracts_\"+str(i)+\".txt\",\"a\",encoding=\"utf8\")\n",
    "                filea.write(linea)\n",
    "                f+=1\n",
    "                count+=1\n",
    "        if f>0:\n",
    "            filea.close()\n",
    "        print(\"resto:\",f)\n",
    "        print(\"total lines:\",count)\n",
    "        filer.close()\n",
    "\n",
    "split_txt(\"abstracts.txt\",6,\"utf8\",624181)"
   ]
  },
  {
   "cell_type": "code",
   "execution_count": null,
   "metadata": {},
   "outputs": [],
   "source": []
  }
 ],
 "metadata": {
  "interpreter": {
   "hash": "40c545317e1f4f027b59ac516c657dca7c8135b6591d53de9168819d5aa6694c"
  },
  "kernelspec": {
   "display_name": "Python 3.9.7 64-bit ('Deeplearning': conda)",
   "language": "python",
   "name": "python3"
  },
  "language_info": {
   "codemirror_mode": {
    "name": "ipython",
    "version": 3
   },
   "file_extension": ".py",
   "mimetype": "text/x-python",
   "name": "python",
   "nbconvert_exporter": "python",
   "pygments_lexer": "ipython3",
   "version": "3.9.7"
  },
  "orig_nbformat": 4
 },
 "nbformat": 4,
 "nbformat_minor": 2
}
