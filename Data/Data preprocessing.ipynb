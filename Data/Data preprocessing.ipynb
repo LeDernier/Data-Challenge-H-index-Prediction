{
 "cells": [
  {
   "cell_type": "code",
   "execution_count": 1,
   "id": "2321771a",
   "metadata": {},
   "outputs": [
    {
     "name": "stderr",
     "output_type": "stream",
     "text": [
      "[nltk_data] Downloading package words to /home/denis/nltk_data...\n",
      "[nltk_data]   Package words is already up-to-date!\n",
      "[nltk_data] Downloading package stopwords to /home/denis/nltk_data...\n",
      "[nltk_data]   Package stopwords is already up-to-date!\n",
      "/home/denis/anaconda3/lib/python3.7/site-packages/gensim/similarities/__init__.py:15: UserWarning: The gensim.similarities.levenshtein submodule is disabled, because the optional Levenshtein package <https://pypi.org/project/python-Levenshtein/> is unavailable. Install Levenhstein (e.g. `pip install python-Levenshtein`) to suppress this warning.\n",
      "  warnings.warn(msg)\n"
     ]
    }
   ],
   "source": [
    "import pandas as pd\n",
    "import numpy as np\n",
    "import nltk\n",
    "import re\n",
    "from nltk.corpus import stopwords\n",
    "import json\n",
    "from langdetect import detect\n",
    "from deep_translator import GoogleTranslator\n",
    "from gensim.models.doc2vec import Doc2Vec, TaggedDocument\n",
    "from wordcloud import WordCloud, STOPWORDS, ImageColorGenerator\n",
    "import string\n",
    "from tqdm import tqdm\n",
    "from nltk.corpus import words\n",
    "import ast\n",
    "import matplotlib.pyplot as plt\n",
    "from nltk.corpus import stopwords\n",
    "from os import path\n",
    "from PIL import Image\n",
    "nltk.download('words')\n",
    "nltk.download('stopwords')\n",
    "pattern = re.compile(r'(,){2,}')\n",
    "eng_words = set(words.words())\n",
    "gglt = GoogleTranslator()\n",
    "pd.set_option(\"max_rows\", 200000)\n",
    "stop_words = set(stopwords.words('english'))\n",
    "tqdm.pandas()"
   ]
  },
  {
   "cell_type": "code",
   "execution_count": null,
   "id": "ec0e8c7e",
   "metadata": {},
   "outputs": [],
   "source": [
    "def process_abstract_data():    \n",
    "    file = open(\".../Data/abstracts.txt\",\"r\")\n",
    "    fw = open(\"../Data/abstracts_processed.txt\",\"w\")\n",
    "    \n",
    "    # loads the inverted abstracts and stores them as id-abstracts in a dictionary dic \n",
    "    dim = 64\n",
    "    abstract_dict = {}\n",
    "    for inverted_abstract in file:\n",
    "\n",
    "        if(inverted_abstract==\"\\n\"):\n",
    "            continue\n",
    "        author_id = inverted_abstract.split(\"----\")[0]\n",
    "        inv = \"\".join(inverted_abstract.split(\"----\")[1:])\n",
    "        \n",
    "        res = ast.literal_eval(inv) \n",
    "        abstract =[ \"\" for i in range(res[\"IndexLength\"])]\n",
    "        inv_indx=  res[\"InvertedIndex\"]\n",
    "\n",
    "        for i in inv_indx:\n",
    "            i_ = i.replace(',','')\n",
    "            if i_.isalpha():\n",
    "                for j in inv_indx[i] and i_ not in stop_words:\n",
    "#                     print(i)\n",
    "                    abstract[j] = i.lower()\n",
    "        \n",
    "        abstract = re.sub(pattern, ',', \",\".join(abstract))\n",
    "       \n",
    "        fw.write(author_id+\"----\"+abstract+\"\\n\")\n",
    "        abstract_dict[author_id] = abstract\n",
    "    \n",
    "    fw.close()\n"
   ]
  },
  {
   "cell_type": "code",
   "execution_count": 2,
   "id": "1bcf27a3",
   "metadata": {},
   "outputs": [
    {
     "name": "stdout",
     "output_type": "stream",
     "text": [
      "Convert to json function run\n"
     ]
    },
    {
     "name": "stderr",
     "output_type": "stream",
     "text": [
      "1056540it [00:06, 175981.48it/s]\n"
     ]
    }
   ],
   "source": [
    "def convertAbstract_to_json():\n",
    "    print(\"Convert to json function run\")\n",
    "    '''\n",
    "    Json is lightweight and making this conversion provides just with a lightweight version of the abstracts\n",
    "    for further preprocesing\n",
    "\n",
    "    '''\n",
    "\n",
    "    f = open(\"../Data/abstracts_processed.txt\", \"r\")\n",
    "    dic = {}\n",
    "    for l in tqdm(f):\n",
    "        splitted = l.split(\"----\")\n",
    "        if len(splitted) < 2:\n",
    "            continue\n",
    "        author_id, abstract = splitted\n",
    "        \n",
    "        dic[author_id] = abstract\n",
    "    f.close()\n",
    "\n",
    "    json.dump(dic, open(\"../Data/abstract_in_json.json\", \"w\"))\n",
    "    \n",
    "convertAbstract_to_json()"
   ]
  },
  {
   "cell_type": "code",
   "execution_count": 5,
   "id": "1cf932d5",
   "metadata": {},
   "outputs": [],
   "source": [
    "def remove_stopwords(joined_abstract):\n",
    "    return \" \".join(word for word in joined_abstract.split(\",\") if word not in stop_words)"
   ]
  },
  {
   "cell_type": "code",
   "execution_count": 6,
   "id": "fdefeda4",
   "metadata": {},
   "outputs": [
    {
     "name": "stdout",
     "output_type": "stream",
     "text": [
      "Removing stop words started\n"
     ]
    },
    {
     "name": "stderr",
     "output_type": "stream",
     "text": [
      "100%|██████████████████████████████████████████████████████████████████████████████████████| 1056539/1056539 [00:15<00:00, 67374.02it/s]\n"
     ]
    }
   ],
   "source": [
    "def remove_stop_words():\n",
    "    print(\"Removing stop words started\")\n",
    "    \n",
    "    abstract_papers= json.load(open(\"../Data/abstract_in_json.json\"))\n",
    "    abstract_papers =pd.DataFrame( abstract_papers.items(),columns=[\"paper_id\", \"abstract\"])\n",
    "    abstract_papers[\"abstract\"] =abstract_papers[\"abstract\"].progress_apply(remove_stopwords)\n",
    "    \n",
    "    abstract_papers.to_json(\"../Data/abstract_in_json_no_stopword.json\")\n",
    "remove_stop_words()"
   ]
  },
  {
   "cell_type": "code",
   "execution_count": 15,
   "id": "b5cc0b44",
   "metadata": {},
   "outputs": [],
   "source": [
    "def proportion_foreign_words(row):\n",
    "    words = set(row.split(\",\"))\n",
    "    return len(words.intersection(eng_words)) / len(words)"
   ]
  },
  {
   "cell_type": "code",
   "execution_count": 16,
   "id": "a0660a66",
   "metadata": {},
   "outputs": [],
   "source": [
    "def detect_lang(row):\n",
    "    if row == \"\":\n",
    "        return \"en\"\n",
    "    try:\n",
    "        return detect(row)\n",
    "    except:\n",
    "        return \"en\"\n"
   ]
  },
  {
   "cell_type": "code",
   "execution_count": 19,
   "id": "85dd7113",
   "metadata": {},
   "outputs": [
    {
     "name": "stdout",
     "output_type": "stream",
     "text": [
      "Segregation run started\n"
     ]
    },
    {
     "name": "stderr",
     "output_type": "stream",
     "text": [
      "100%|██████████████████████████████████████████████████████████████████████████████████████| 1056539/1056539 [00:17<00:00, 59671.72it/s]\n",
      "100%|████████████████████████████████████████████████████████████████████████████████████████████| 17792/17792 [02:01<00:00, 146.38it/s]\n",
      "/home/denis/anaconda3/lib/python3.7/site-packages/ipykernel_launcher.py:9: SettingWithCopyWarning: \n",
      "A value is trying to be set on a copy of a slice from a DataFrame.\n",
      "Try using .loc[row_indexer,col_indexer] = value instead\n",
      "\n",
      "See the caveats in the documentation: https://pandas.pydata.org/pandas-docs/stable/user_guide/indexing.html#returning-a-view-versus-a-copy\n",
      "  if __name__ == '__main__':\n"
     ]
    },
    {
     "name": "stdout",
     "output_type": "stream",
     "text": [
      "(4655, 4)\n",
      "(13137, 4)\n"
     ]
    },
    {
     "data": {
      "image/png": "[encoded data removed]",
      "text/plain": [
       "<Figure size 432x288 with 1 Axes>"
      ]
     },
     "metadata": {
      "needs_background": "light"
     },
     "output_type": "display_data"
    }
   ],
   "source": [
    "def segregate_abstracts():\n",
    "    print(\"Segregation run started\")\n",
    "    threshold_foreign = \"0.5\"\n",
    "    abstract_papers= json.load(open(\"../Data/abstract_in_json_no_stopword.json\"))\n",
    "    abstract_papers=pd.DataFrame(abstract_papers.items(), columns=[\"paper_id\", \"abstract\"])    \n",
    "    abstract_papers[\"prop_foreign_word\"] = abstract_papers[\"abstract\"].progress_apply(proportion_foreign_words)\n",
    "    english_abstracts= abstract_papers.query(f\"prop_foreign_word > {threshold_foreign}\")\n",
    "    foreign_abstracts = abstract_papers.query(f\"prop_foreign_word <= {threshold_foreign}\")\n",
    "    foreign_abstracts[\"lang\"] = foreign_abstracts[\"abstract\"].progress_apply(detect_lang)\n",
    "    correct_foreign_abstract = foreign_abstracts.query(\"lang != 'en'\")\n",
    "    incorrect_foreign_abstract = foreign_abstracts.query(\"lang == 'en'\")\n",
    "    print(incorrect_foreign_abstract.shape)\n",
    "    english_words_concat = pd.concat([english_abstracts,incorrect_foreign_abstract])\n",
    "    del english_words_concat[\"lang\"]\n",
    "    del english_words_concat[\"prop_foreign_word\"]\n",
    "    print(correct_foreign_abstract.shape)\n",
    "    \n",
    "    \n",
    "    english_words_concat.to_csv(\"..Data/english_abstracts.csv\")\n",
    "    correct_foreign_abstract.to_csv(\"../Data/non_english_abstracts.csv\")\n",
    "  \n",
    "    correct_foreign_abstract['lang'].value_counts().plot.bar()\n",
    "segregate_abstracts()\n"
   ]
  },
  {
   "cell_type": "code",
   "execution_count": 25,
   "id": "0c4fd74a",
   "metadata": {},
   "outputs": [],
   "source": [
    "def language_translate(x):\n",
    "    try:\n",
    "        return gglt.translate(x)\n",
    "    except:\n",
    "        return x"
   ]
  },
  {
   "cell_type": "code",
   "execution_count": 26,
   "id": "f1dec59f",
   "metadata": {},
   "outputs": [
    {
     "name": "stdout",
     "output_type": "stream",
     "text": [
      "Translate run started\n"
     ]
    },
    {
     "name": "stderr",
     "output_type": "stream",
     "text": [
      "100%|█████████████████████████████████████████████████████████████████████████████████████████████| 13137/13137 [29:26<00:00,  7.44it/s]\n"
     ]
    }
   ],
   "source": [
    "\n",
    "def translate_abstract_to_english():\n",
    "    print(\"Translate run started\")\n",
    "    abstract_papers_in_foreign_languges = pd.read_csv(\"../Data/non_english_abstracts.csv\")\n",
    "    abstract_papers_in_foreign_languges[\"abstract\"] = abstract_papers_in_foreign_languges[\"abstract\"].progress_apply(language_translate)\n",
    "      \n",
    "    abstract_papers_in_foreign_languges.to_csv(\"../Data/non_english_abstract_translated.csv\",encoding=\"utf8\")\n",
    "\n",
    "translate_abstract_to_english()"
   ]
  },
  {
   "cell_type": "code",
   "execution_count": 28,
   "id": "67e2bbbf",
   "metadata": {},
   "outputs": [],
   "source": [
    "def further_pre_process_abstract():\n",
    "  \n",
    "    translated_abstracts = pd.read_csv(\"../Data/non_english_abstract_translated.csv\",encoding=\"utf8\",index_col=False)\n",
    "    \n",
    "    english_abstracts =pd.read_csv(\"../Data/english_abstracts.csv\",encoding=\"utf8\",index_col=False)\n",
    "    english_abstracts= english_abstracts[['paper_id', 'abstract']]\n",
    "    #Drop unwanted indexed\n",
    "    english_abstracts.drop(english_abstracts.head(1).index, inplace=True)\n",
    "    translated_abstracts.drop(translated_abstracts.head(1).index, inplace=True)\n",
    "    translated_abstracts= translated_abstracts[['paper_id',\"abstract\"]]\n",
    "    #concatenate the two dataframes into one\n",
    "    overall_words = pd.concat([english_abstracts, translated_abstracts])\n",
    "    \n",
    "    overall_words['paper_id']=overall_words['paper_id'].astype(\"int64\")\n",
    "    \n",
    "    #Save file as csv\n",
    "    overall_words.to_csv(\"../Data/all_abstract_in_english.csv\",encoding=\"utf8\",index=False)    \n",
    "    \n",
    "    \n",
    " \n",
    "    "
   ]
  },
  {
   "cell_type": "code",
   "execution_count": 29,
   "id": "323344bb",
   "metadata": {},
   "outputs": [],
   "source": [
    "further_pre_process_abstract()"
   ]
  },
  {
   "cell_type": "code",
   "execution_count": null,
   "id": "caf0a6c4",
   "metadata": {},
   "outputs": [],
   "source": [
    "import pandas as pd\n",
    "import csv\n",
    "def visualise_common_words():\n",
    "    '''\n",
    "    Count the number of non_stop words in each of the abstracts\n",
    "    '''\n",
    "    \n",
    "\n",
    "    reader = csv.DictReader(open('../Data/all_abstract_in_english.csv'))\n",
    "    all_abstract_text=[]\n",
    "    for row in reader:\n",
    "        k=row['paper_id']\n",
    "        v=row['abstract']        \n",
    "        abstract_text=[\"\".join(x) for x in v.split(\",\") if x not in stop_words and x!=\"\\n\" ]\n",
    "        all_abstract_text.append(\" \".join(abstract_text))      \n",
    "\n",
    "\n",
    "   \n",
    "        # print(all_abstract_text)\n",
    "    text = str(all_abstract_text).strip('[]')\n",
    "\n",
    "    return text\n",
    "   "
   ]
  },
  {
   "cell_type": "markdown",
   "id": "4ea66de3",
   "metadata": {},
   "source": [
    "words= visualise_common_words()\n",
    "wordcloud = WordCloud().generate(words)\n",
    "plt.imshow(wordcloud)\n",
    "plt.axis(\"off\")\n",
    "plt.show()"
   ]
  },
  {
   "cell_type": "code",
   "execution_count": 2,
   "id": "efc5a827",
   "metadata": {},
   "outputs": [
    {
     "name": "stdout",
     "output_type": "stream",
     "text": [
      "Running now\n"
     ]
    }
   ],
   "source": [
    "import csv\n",
    "\n",
    "reader = csv.DictReader(open('../Data/all_abstract_in_english.csv'))\n",
    "abstract_dict={}\n",
    "for row in reader:\n",
    "    k=row['paper_id']\n",
    "    v=row['abstract']\n",
    "    abstract_dict[k] = v\n",
    "    \n",
    "\n",
    "    \n",
    "    \n",
    "def generate_abstract_embeddings(abstract_dict):\n",
    "    print(\"Running now\")\n",
    "    #Clean the abstract and remove stop words\n",
    "    doc = []\n",
    "    for i in abstract_dict:\n",
    "#         print(i)\n",
    "        p = abstract_dict[i].split(\",\")\n",
    "        abstract_dict[i] = [l for l in p if l.replace(\",\",\"\").isalpha() and l not in stop_words]\n",
    "        doc.append(abstract_dict[i])\n",
    "\n",
    "    # learns the embeddings of each abstract \n",
    "    tagged_data = [TaggedDocument(d, [i]) for i, d in enumerate(doc)]\n",
    "    del doc\n",
    "    model = Doc2Vec(tagged_data, vector_size = 64, window = 5, min_count = 2, epochs = 10, workers=4)\n",
    "\n",
    "    # store the embeddings in \"paperID\":array format\n",
    "    f = open(\"../Data/paper_embeddings_64.txt\",\"w\")\n",
    "    for tid in abstract_dict:\n",
    "        sentence = abstract_dict[tid]\n",
    "        f.write(str(tid)+\":\"+np.array2string(model.infer_vector(sentence), formatter={'float_kind':lambda x: \"%.8f\" % x})+\"\\n\")    \n",
    "    f.close()\n",
    "generate_abstract_embeddings(abstract_dict)\n",
    "\n",
    "    "
   ]
  },
  {
   "cell_type": "code",
   "execution_count": null,
   "id": "9ddf0621",
   "metadata": {},
   "outputs": [],
   "source": []
  }
 ],
 "metadata": {
  "kernelspec": {
   "display_name": "Python 3 (ipykernel)",
   "language": "python",
   "name": "python3"
  },
  "language_info": {
   "codemirror_mode": {
    "name": "ipython",
    "version": 3
   },
   "file_extension": ".py",
   "mimetype": "text/x-python",
   "name": "python",
   "nbconvert_exporter": "python",
   "pygments_lexer": "ipython3",
   "version": "3.7.12"
  }
 },
 "nbformat": 4,
 "nbformat_minor": 5
}
