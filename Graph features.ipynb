{
 "cells": [
  {
   "cell_type": "markdown",
   "metadata": {},
   "source": [
    "## 1. Author papers and co-authorship"
   ]
  },
  {
   "cell_type": "code",
   "execution_count": 2,
   "metadata": {
    "ExecuteTime": {
     "end_time": "2021-12-08T12:00:13.594445Z",
     "start_time": "2021-12-08T12:00:10.431439Z"
    }
   },
   "outputs": [],
   "source": [
    "import sys\n",
    "import matplotlib.pyplot as plt\n",
    "import numpy as np\n",
    "import networkx as nx\n",
    "import pandas as pd\n",
    "from collections import defaultdict"
   ]
  },
  {
   "cell_type": "code",
   "execution_count": 6,
   "metadata": {
    "ExecuteTime": {
     "end_time": "2021-12-08T12:02:09.424612Z",
     "start_time": "2021-12-08T12:02:09.247378Z"
    }
   },
   "outputs": [
    {
     "name": "stdout",
     "output_type": "stream",
     "text": [
      "Read author_papers.txt with a number of lines: 217801. The size in memory of the resulting list: 1784056 bytes \n"
     ]
    }
   ],
   "source": [
    "f_author_papers = open(\"../Data/author_papers.txt\", \"r\")\n",
    "list_lines = f_author_papers.readlines()\n",
    "f_author_papers.close()\n",
    "\n",
    "print('Read author_papers.txt with a number of lines: {0}. The size in memory of the resulting list: {1} bytes '.format(len(list_lines),sys.getsizeof(list_lines)))"
   ]
  },
  {
   "cell_type": "code",
   "execution_count": 7,
   "metadata": {
    "ExecuteTime": {
     "end_time": "2021-12-08T12:02:09.951049Z",
     "start_time": "2021-12-08T12:02:09.928611Z"
    }
   },
   "outputs": [
    {
     "name": "stdout",
     "output_type": "stream",
     "text": [
      "non instantiated weight:  {}\n",
      "[(1, 2), (2, 4), (4, 3)]\n",
      "[(1, 2, 1), (2, 4, None), (4, 3, None)]\n",
      "[(1, 2, {'weight': 2}), (2, 4, {}), (4, 3, {})]\n",
      "[(1, 2, {'weight': 3}), (2, 4, {}), (4, 3, {})]\n",
      "[(1, 2, {'weight': 3}), (2, 4, {}), (2, 5, {'weight': -1}), (4, 3, {})]\n"
     ]
    }
   ],
   "source": [
    "edges_t = [(1,2),(2,4),(3,4)]\n",
    "weight_t = {(1,2):2,(2,4):8,(3,4):12}\n",
    "G_t = nx.Graph()\n",
    "G_t.add_edges_from(edges_t)\n",
    "print('non instantiated weight: ',G_t[1][2])\n",
    "print(G_t.edges())\n",
    "G_t[1][2]['weight'] = 1\n",
    "print(G_t.edges(data=('weight')))\n",
    "G_t[1][2]['weight'] += 1\n",
    "print(G_t.edges(data=True))\n",
    "G_t[2][1]['weight'] += 1\n",
    "print(G_t.edges(data=True))\n",
    "(1,2) in G_t.edges()\n",
    "G_t.add_edge(5,2,weight=-1)\n",
    "print(G_t.edges(data=True))"
   ]
  },
  {
   "cell_type": "code",
   "execution_count": 8,
   "metadata": {
    "ExecuteTime": {
     "end_time": "2021-12-08T12:02:18.313969Z",
     "start_time": "2021-12-08T12:02:13.135588Z"
    }
   },
   "outputs": [
    {
     "name": "stdout",
     "output_type": "stream",
     "text": [
      "Built dictionary{author: papers} of size 217801, with size in memory: 10485872 bytes\n",
      "Built dictionary {paper: authors} of size 683606, with size in memory: 20971624 bytes\n"
     ]
    }
   ],
   "source": [
    "dict_author_papers = defaultdict(list)\n",
    "dict_paper_authors = defaultdict(list)\n",
    "\n",
    "for line in list_lines:\n",
    "    author, papers = line.split(':',1)\n",
    "    author = int(author)\n",
    "    papers = papers.replace('\\n','').split('-')\n",
    "    papers = list(map(int,papers))\n",
    "    dict_author_papers[author] = papers\n",
    "    for paper in papers:\n",
    "        dict_paper_authors[paper].append(author)\n",
    "              \n",
    "\n",
    "print('Built dictionary{{author: papers}} of size {0}, with size in memory: {1} bytes'.format(len(dict_author_papers), sys.getsizeof(dict_author_papers)))\n",
    "print('Built dictionary {{paper: authors}} of size {0}, with size in memory: {1} bytes'.format(len(dict_paper_authors), sys.getsizeof(dict_paper_authors)))"
   ]
  },
  {
   "cell_type": "code",
   "execution_count": 10,
   "metadata": {
    "ExecuteTime": {
     "end_time": "2021-11-28T16:30:35.847992Z",
     "start_time": "2021-11-28T16:30:35.833448Z"
    }
   },
   "outputs": [
    {
     "name": "stdout",
     "output_type": "stream",
     "text": [
      "The first 5 elements in the dictionary {{author: papers}}:\n",
      "{1036332: [1510273386, 1827736641, 1588673897, 2252711322, 2123653597]}\n",
      "{1101850: [133459021, 179719743, 2111787673, 2126488676, 31838995]}\n",
      "{1336878: [2122092249, 2132109814, 2100271871, 2065672539, 2036413831]}\n",
      "{1515524: [2141827797, 2127085795, 2013547785, 2138529788, 1994863898]}\n",
      "{1606427: [1907724546]}\n",
      "{2728936: [2114261446, 2042751882, 1912205781, 2059913822, 1905787154]}\n",
      "\n",
      "The first 5 elements in the dictionary {{paper: authors}}:\n",
      "{1510273386: [1036332, 2120372629]}\n",
      "{1827736641: [1036332, 349218277, 2074625575, 2141682129]}\n",
      "{1588673897: [1036332, 349218277, 2074625575, 2141682129, 2171005301]}\n",
      "{2252711322: [1036332, 2035326238]}\n",
      "{2123653597: [1036332, 2035326238]}\n",
      "{133459021: [1101850]}\n"
     ]
    }
   ],
   "source": [
    "if list_lines is not None:\n",
    "    list_lines = None\n",
    "\n",
    "print('The first 5 elements in the dictionary {{author: papers}}:')\n",
    "count = 0\n",
    "for key in dict_author_papers:\n",
    "    if(count > 5):\n",
    "        break\n",
    "    print('{{{0}: {1}}}'.format(key,dict_author_papers[key]))\n",
    "    count += 1\n",
    "    \n",
    "print('\\nThe first 5 elements in the dictionary {{paper: authors}}:')\n",
    "count = 0\n",
    "for key in dict_paper_authors:\n",
    "    if(count > 5):\n",
    "        break\n",
    "    print('{{{0}: {1}}}'.format(key,dict_paper_authors[key]))\n",
    "    count += 1"
   ]
  },
  {
   "cell_type": "markdown",
   "metadata": {},
   "source": [
    "## 2. Author papers and co-authorship"
   ]
  },
  {
   "cell_type": "code",
   "execution_count": 3,
   "metadata": {
    "ExecuteTime": {
     "end_time": "2021-12-08T12:00:28.628618Z",
     "start_time": "2021-12-08T12:00:14.058710Z"
    }
   },
   "outputs": [
    {
     "name": "stdout",
     "output_type": "stream",
     "text": [
      "Number of nodes: 217801\n",
      "Number of edges: 1718164\n"
     ]
    }
   ],
   "source": [
    "G = nx.read_edgelist('../Data/coauthorship.edgelist', delimiter=' ', nodetype=int)\n",
    "n_nodes = G.number_of_nodes()\n",
    "n_edges = G.number_of_edges()\n",
    "\n",
    "print('Number of nodes:', n_nodes)\n",
    "print('Number of edges:', n_edges)"
   ]
  },
  {
   "cell_type": "code",
   "execution_count": 9,
   "metadata": {
    "ExecuteTime": {
     "end_time": "2021-12-08T12:02:40.672576Z",
     "start_time": "2021-12-08T12:02:21.375523Z"
    }
   },
   "outputs": [],
   "source": [
    "num_missing_edges = 0\n",
    "num_verified_edges = 0\n",
    "set_papers_missing_edges = []\n",
    "dict_num_missing_edges = defaultdict(int)\n",
    "\n",
    "for paper in dict_paper_authors:\n",
    "    authors = dict_paper_authors[paper]\n",
    "    for i in range(len(authors)):\n",
    "        for j in range(i+1,len(authors)):\n",
    "            if(G.has_edge(authors[i],authors[j])):\n",
    "                if('co-authorship' not in G[authors[i]][authors[j]]):\n",
    "                    G[authors[i]][authors[j]]['co-authorship'] = 1\n",
    "                    num_verified_edges += 1\n",
    "                else:\n",
    "                    G[authors[i]][authors[j]]['co-authorship'] += 1\n",
    "            else:\n",
    "                num_missing_edges += 1\n",
    "                set_papers_missing_edges.append(paper)\n",
    "                dict_num_missing_edges[(authors[i],authors[j])] += 1\n",
    "                \n",
    "set_papers_missing_edges = set(set_papers_missing_edges)"
   ]
  },
  {
   "cell_type": "code",
   "execution_count": 13,
   "metadata": {
    "ExecuteTime": {
     "end_time": "2021-12-08T13:44:13.431422Z",
     "start_time": "2021-12-08T13:44:13.066310Z"
    }
   },
   "outputs": [
    {
     "name": "stdout",
     "output_type": "stream",
     "text": [
      "Num of top-cited papers not considered:  1467986\n",
      "Num of missing edges:  928043\n",
      "Num of verified edges: 874503 out of 1718164\n",
      "Max co-authorship of missing edges:  10\n",
      "Min co-authorship of missing edges:  1\n"
     ]
    },
    {
     "data": {
      "image/png": "[encoded data removed]",
      "text/plain": [
       "<Figure size 576x360 with 1 Axes>"
      ]
     },
     "metadata": {
      "needs_background": "light"
     },
     "output_type": "display_data"
    }
   ],
   "source": [
    "print('Num of top-cited papers not considered: ', num_missing_edges)\n",
    "print('Num of missing edges: ', len(dict_num_missing_edges))\n",
    "print('Num of verified edges: {0} out of {1}'.format(num_verified_edges,n_edges))\n",
    "list_missing_edges = dict_num_missing_edges.values()\n",
    "max_weight_missing_edges = max(list_missing_edges)\n",
    "print('Max co-authorship of missing edges: ',max(list_missing_edges))\n",
    "print('Min co-authorship of missing edges: ',min(list_missing_edges))\n",
    "\n",
    "plt.figure(figsize=(8,5))\n",
    "_,_,patches = plt.hist(list_missing_edges, bins=np.arange(0,max_weight_missing_edges+1))\n",
    "plt.xlim([0.5, 10.5])\n",
    "plt.xticks(np.arange(0,max_weight_missing_edges+1))\n",
    "plt.xlabel('Number of not top-cited papers',fontsize=14)\n",
    "plt.ylabel('Number of missing papers',fontsize=14)\n",
    "\n",
    "for pp in patches:\n",
    "    x = (pp._x0 + pp._x1)/2\n",
    "    y = pp._y1 + 0.05\n",
    "    plt.text(x, y, int(pp._y1))\n",
    "\n",
    "plt.xticks(fontsize=14)\n",
    "plt.yticks(fontsize=13)\n",
    "plt.savefig(\"histogram_missing_not_top_cited_papers\")"
   ]
  },
  {
   "cell_type": "markdown",
   "metadata": {},
   "source": [
    "There are pairs of authors that have 10 top-cited articles but they are not related in the graph (the edge doesn't exist). We'll explore this phenomena in the next section."
   ]
  },
  {
   "cell_type": "code",
   "execution_count": 133,
   "metadata": {
    "ExecuteTime": {
     "end_time": "2021-11-28T21:08:07.789235Z",
     "start_time": "2021-11-28T21:08:07.783254Z"
    }
   },
   "outputs": [
    {
     "name": "stdout",
     "output_type": "stream",
     "text": [
      "Some of the edges after the addition of the weights:\n",
      "\n",
      "(2002218453,1999212242,{}) = \n",
      "(2002218453,2032640503,{}) = \n",
      "(2002218453,2475931411,{}) = \n",
      "(2002218453,2477743428,{}) = \n",
      "(2002218453,2504846374,{}) = \n",
      "(2002218453,2597456557,{'co-authorship': 1}) = \n",
      "(2002218453,2598017501,{}) = \n",
      "(2002218453,2134271654,{}) = \n",
      "(2002218453,2138551865,{}) = \n",
      "(2002218453,2145694960,{}) = \n",
      "(2002218453,2196000661,{}) = \n",
      "(2002218453,2205806165,{}) = \n",
      "(2002218453,2209357149,{}) = \n",
      "(2002218453,2209740845,{}) = \n",
      "(2002218453,2241457235,{}) = \n",
      "(2002218453,2260426619,{}) = \n",
      "(2002218453,2524794028,{}) = \n",
      "(2002218453,2777594067,{}) = \n",
      "(1999212242,2475931411,{'co-authorship': 1}) = \n",
      "(1999212242,2504846374,{'co-authorship': 1}) = \n",
      "(1999212242,2597456557,{}) = \n",
      "(1999212242,2032640503,{}) = \n",
      "(1999212242,2598017501,{}) = \n",
      "(1999212242,2477743428,{'co-authorship': 1}) = \n",
      "(2032640503,2475931411,{}) = \n",
      "(2032640503,2504846374,{}) = \n",
      "(2032640503,1863879007,{}) = \n",
      "(2032640503,2336566022,{'co-authorship': 2}) = \n",
      "(2032640503,2109427122,{'co-authorship': 2}) = \n",
      "(2032640503,2597456557,{}) = \n",
      "(2032640503,2477743428,{}) = \n"
     ]
    }
   ],
   "source": [
    "print('Some of the edges after the addition of the weights:\\n')\n",
    "count = 0\n",
    "for (u,v,d) in G.edges(data=True):\n",
    "    if(count > 30):\n",
    "        break\n",
    "    print(\"({0},{1},{2}) = \".format(u,v,d))\n",
    "    count += 1"
   ]
  },
  {
   "cell_type": "markdown",
   "metadata": {},
   "source": [
    "## 3. Missing relationships\n",
    "\n",
    "First, we'll see if the authors in the list of missing edges are in the graph (if the node exist) created from the *coauthorship.edgelist* file."
   ]
  },
  {
   "cell_type": "code",
   "execution_count": 208,
   "metadata": {
    "ExecuteTime": {
     "end_time": "2021-11-29T01:26:30.434867Z",
     "start_time": "2021-11-29T01:26:27.526819Z"
    }
   },
   "outputs": [
    {
     "name": "stdout",
     "output_type": "stream",
     "text": [
      "Num of missing authors:  0\n"
     ]
    }
   ],
   "source": [
    "set_authors_missing_edges = set()\n",
    "for edge in dict_missing_edges.keys():\n",
    "    set_authors_missing_edges.update([edge[0],edge[1]])\n",
    "\n",
    "num_missing_authors = 0\n",
    "for author in set_authors_missing_edges:\n",
    "    if(author not in G.nodes()):\n",
    "        num_missing_authors += 1\n",
    "    \n",
    "print('Num of missing authors: ',num_missing_authors)"
   ]
  },
  {
   "cell_type": "markdown",
   "metadata": {},
   "source": [
    "Second, we'll check the presence of the papers associated to those missing edges in the *abstract.txt* file. We'll get the list of papers and turn it into a set for two reasons : (i) we don't want to have duplicated, and (ii) the membership test is faster for sets than for lists."
   ]
  },
  {
   "cell_type": "code",
   "execution_count": 238,
   "metadata": {
    "ExecuteTime": {
     "end_time": "2021-11-29T01:53:30.108683Z",
     "start_time": "2021-11-29T01:53:21.413214Z"
    }
   },
   "outputs": [
    {
     "name": "stdout",
     "output_type": "stream",
     "text": [
      "Read abstracts.txt with a number of lines: 624181. The size in memory of the resulting list: 5150400 bytes \n"
     ]
    }
   ],
   "source": [
    "f_abstracts = open('../Data/abstracts.txt',encoding=\"utf8\")\n",
    "list_lines = f_abstracts.readlines()\n",
    "f_abstracts.close()\n",
    "\n",
    "print('Read abstracts.txt with a number of lines: {0}. The size in memory of the resulting list: {1} bytes '.format(len(list_lines),sys.getsizeof(list_lines)))"
   ]
  },
  {
   "cell_type": "code",
   "execution_count": 248,
   "metadata": {
    "ExecuteTime": {
     "end_time": "2021-11-29T02:03:52.943792Z",
     "start_time": "2021-11-29T02:03:50.937588Z"
    }
   },
   "outputs": [],
   "source": [
    "list_id_paper_abstracts = [int(line.split('----',1)[0]) for line in list_lines]\n",
    "list_id_paper_authors = list(dict_paper_authors.keys())\n",
    "set_id_paper_abstracts = set(list_id_paper_abstracts)\n",
    "set_id_paper_authors = set(list_id_paper_authors)"
   ]
  },
  {
   "cell_type": "code",
   "execution_count": 249,
   "metadata": {
    "ExecuteTime": {
     "end_time": "2021-11-29T02:03:53.391715Z",
     "start_time": "2021-11-29T02:03:52.948984Z"
    }
   },
   "outputs": [
    {
     "name": "stdout",
     "output_type": "stream",
     "text": [
      "Num of papers in author_papers.txt with abstract: 624181 out of 683606 \n"
     ]
    }
   ],
   "source": [
    "num_papers_with_abstract = 0\n",
    "for paper in set_id_paper_authors:\n",
    "    if(paper in set_id_paper_abstracts):\n",
    "        num_papers_with_abstract += 1\n",
    "        \n",
    "print('Num of papers in author_papers.txt with abstract: {0} out of {1} '.format(num_papers_with_abstract,len(dict_paper_authors)))"
   ]
  },
  {
   "cell_type": "markdown",
   "metadata": {},
   "source": [
    "So, each abstract in *abstracts.txt* belongs to a paper in *author_papers.txt* but not all papers in *author_papers.txt* have an astract in *abstracts.txt*. Finally, we will check if the papers that have an abstract contain the set of papers associated with the missing edges."
   ]
  },
  {
   "cell_type": "code",
   "execution_count": 256,
   "metadata": {
    "ExecuteTime": {
     "end_time": "2021-11-29T02:16:05.712624Z",
     "start_time": "2021-11-29T02:16:05.207266Z"
    }
   },
   "outputs": [
    {
     "name": "stdout",
     "output_type": "stream",
     "text": [
      "Num of papers with abstract that are not associated to an edge: 1422623 out of 1467986 \n"
     ]
    }
   ],
   "source": [
    "num_papers_abstract_missing_edge = 0\n",
    "for paper in set_papers_missing_edges:\n",
    "    if(paper in set_id_paper_abstracts):\n",
    "        num_papers_abstract_missing_edge += 1\n",
    "        \n",
    "print('Num of papers with abstract that are not associated to an edge: {0} out of {1} '.format(num_papers_abstract_missing_edge,len(set_papers_missing_edges)))"
   ]
  },
  {
   "cell_type": "markdown",
   "metadata": {},
   "source": [
    "In conclusion, we must add the instances of co-authorship to the graph and extract the characteristics of the result."
   ]
  },
  {
   "cell_type": "markdown",
   "metadata": {},
   "source": [
    "## 4. Graph features"
   ]
  },
  {
   "cell_type": "markdown",
   "metadata": {},
   "source": [
    "First, we will create the weighted graph with the number of top-cited co-authored papers as weights (0 if the authors have worked on an paper that is not the top-cited)."
   ]
  },
  {
   "cell_type": "code",
   "execution_count": 292,
   "metadata": {
    "ExecuteTime": {
     "end_time": "2021-11-29T15:18:15.444149Z",
     "start_time": "2021-11-29T15:16:09.917702Z"
    }
   },
   "outputs": [
    {
     "name": "stdout",
     "output_type": "stream",
     "text": [
      "Weighted denser graph saved\n"
     ]
    }
   ],
   "source": [
    "G = nx.read_edgelist('../Data/coauthorship.edgelist', delimiter=' ', nodetype=int)\n",
    "nx.set_edge_attributes(G, values = 0, name = 'coauthorship')\n",
    "\n",
    "for paper in dict_paper_authors:\n",
    "    authors = dict_paper_authors[paper]\n",
    "    for i in range(len(authors)):\n",
    "        for j in range(i+1,len(authors)):\n",
    "            if(G.has_edge(authors[i],authors[j])):\n",
    "                if('co-authorship' not in G[authors[i]][authors[j]]):\n",
    "                    G[authors[i]][authors[j]]['coauthorship'] = 1\n",
    "                    num_verified_edges += 1\n",
    "                else:\n",
    "                    G[authors[i]][authors[j]]['coauthorship'] += 1\n",
    "            else:\n",
    "                G.add_edge(authors[i],authors[j], coauthorship = 1)\n",
    "\n",
    "G.remove_edges_from(nx.selfloop_edges(G))"
   ]
  },
  {
   "cell_type": "code",
   "execution_count": 295,
   "metadata": {
    "ExecuteTime": {
     "end_time": "2021-11-30T10:25:27.665831Z",
     "start_time": "2021-11-30T10:24:51.783432Z"
    }
   },
   "outputs": [
    {
     "name": "stdout",
     "output_type": "stream",
     "text": [
      "Weighted dense graph saved\n"
     ]
    }
   ],
   "source": [
    "nx.write_edgelist(G, path='../Data/graph.weighted.edgelist', data=True)\n",
    "print('Weighted dense graph saved')"
   ]
  },
  {
   "cell_type": "code",
   "execution_count": 294,
   "metadata": {
    "ExecuteTime": {
     "end_time": "2021-11-30T10:21:20.345487Z",
     "start_time": "2021-11-30T10:21:20.277360Z"
    }
   },
   "outputs": [
    {
     "name": "stdout",
     "output_type": "stream",
     "text": [
      "Some of the edges after the addition of the weights:\n",
      "\n",
      "(2002218453,1999212242,{'coauthorship': 0}) = \n",
      "(2002218453,2032640503,{'coauthorship': 0}) = \n",
      "(2002218453,2475931411,{'coauthorship': 0}) = \n",
      "(2002218453,2477743428,{'coauthorship': 0}) = \n",
      "(2002218453,2504846374,{'coauthorship': 0}) = \n",
      "(2002218453,2597456557,{'coauthorship': 1}) = \n",
      "(2002218453,2598017501,{'coauthorship': 0}) = \n",
      "(2002218453,2134271654,{'coauthorship': 0}) = \n",
      "(2002218453,2138551865,{'coauthorship': 0}) = \n",
      "(2002218453,2145694960,{'coauthorship': 0}) = \n",
      "(2002218453,2196000661,{'coauthorship': 0}) = \n",
      "(2002218453,2205806165,{'coauthorship': 0}) = \n",
      "(2002218453,2209357149,{'coauthorship': 0}) = \n",
      "(2002218453,2209740845,{'coauthorship': 0}) = \n",
      "(2002218453,2241457235,{'coauthorship': 0}) = \n",
      "(2002218453,2260426619,{'coauthorship': 0}) = \n",
      "(2002218453,2524794028,{'coauthorship': 0}) = \n",
      "(2002218453,2777594067,{'coauthorship': 0}) = \n",
      "(2002218453,2056789095,{'coauthorship': 1}) = \n",
      "(1999212242,2475931411,{'coauthorship': 1}) = \n",
      "(1999212242,2504846374,{'coauthorship': 1}) = \n",
      "(1999212242,2597456557,{'coauthorship': 0}) = \n",
      "(1999212242,2032640503,{'coauthorship': 0}) = \n",
      "(1999212242,2598017501,{'coauthorship': 0}) = \n",
      "(1999212242,2477743428,{'coauthorship': 1}) = \n",
      "(2032640503,2475931411,{'coauthorship': 0}) = \n",
      "(2032640503,2504846374,{'coauthorship': 0}) = \n",
      "(2032640503,1863879007,{'coauthorship': 0}) = \n",
      "(2032640503,2336566022,{'coauthorship': 1}) = \n",
      "(2032640503,2109427122,{'coauthorship': 1}) = \n",
      "(2032640503,2597456557,{'coauthorship': 0}) = \n"
     ]
    }
   ],
   "source": [
    "print('Some of the edges after the addition of the weights:\\n')\n",
    "count = 0\n",
    "for (u,v,d) in G.edges(data=True):\n",
    "    if(count > 30):\n",
    "        break\n",
    "    print(\"({0},{1},{2}) = \".format(u,v,d))\n",
    "    count += 1"
   ]
  },
  {
   "cell_type": "code",
   "execution_count": 293,
   "metadata": {
    "ExecuteTime": {
     "end_time": "2021-11-29T15:18:15.860023Z",
     "start_time": "2021-11-29T15:18:15.515936Z"
    }
   },
   "outputs": [
    {
     "name": "stdout",
     "output_type": "stream",
     "text": [
      "Number of nodes: 217801\n",
      "Number of edges: 2640752\n",
      "Some of the edges after the addition of the weights:\n",
      "\n",
      "(2002218453,1999212242,{'coauthorship': 0})\n",
      "(2002218453,2032640503,{'coauthorship': 0})\n",
      "(2002218453,2475931411,{'coauthorship': 0})\n",
      "(2002218453,2477743428,{'coauthorship': 0})\n",
      "(2002218453,2504846374,{'coauthorship': 0})\n",
      "(2002218453,2597456557,{'coauthorship': 1})\n",
      "(2002218453,2598017501,{'coauthorship': 0})\n",
      "(2002218453,2134271654,{'coauthorship': 0})\n",
      "(2002218453,2138551865,{'coauthorship': 0})\n",
      "(2002218453,2145694960,{'coauthorship': 0})\n",
      "(2002218453,2196000661,{'coauthorship': 0})\n",
      "(2002218453,2205806165,{'coauthorship': 0})\n",
      "(2002218453,2209357149,{'coauthorship': 0})\n",
      "(2002218453,2209740845,{'coauthorship': 0})\n",
      "(2002218453,2241457235,{'coauthorship': 0})\n",
      "(2002218453,2260426619,{'coauthorship': 0})\n",
      "(2002218453,2524794028,{'coauthorship': 0})\n",
      "(2002218453,2777594067,{'coauthorship': 0})\n",
      "(2002218453,2056789095,{'coauthorship': 1})\n",
      "(1999212242,2475931411,{'coauthorship': 1})\n",
      "(1999212242,2504846374,{'coauthorship': 1})\n",
      "(1999212242,2597456557,{'coauthorship': 0})\n",
      "(1999212242,2032640503,{'coauthorship': 0})\n",
      "(1999212242,2598017501,{'coauthorship': 0})\n",
      "(1999212242,2477743428,{'coauthorship': 1})\n",
      "(2032640503,2475931411,{'coauthorship': 0})\n",
      "(2032640503,2504846374,{'coauthorship': 0})\n",
      "(2032640503,1863879007,{'coauthorship': 0})\n",
      "(2032640503,2336566022,{'coauthorship': 1})\n",
      "(2032640503,2109427122,{'coauthorship': 1})\n",
      "(2032640503,2597456557,{'coauthorship': 0})\n"
     ]
    }
   ],
   "source": [
    "n_nodes = G.number_of_nodes()\n",
    "n_edges = G.number_of_edges()\n",
    "\n",
    "print('Number of nodes:', n_nodes)\n",
    "print('Number of edges:', n_edges)\n",
    "print('Some of the edges after the addition of the weights:\\n')\n",
    "count = 0\n",
    "for (u,v,d) in G.edges(data=True):\n",
    "    if(count > 30):\n",
    "        break\n",
    "    print(\"({0},{1},{2})\".format(u,v,d))\n",
    "    count += 1"
   ]
  },
  {
   "cell_type": "markdown",
   "metadata": {},
   "source": [
    "Second, we'll extract the graph features and saved them in a file called *graph_features.csv*."
   ]
  },
  {
   "cell_type": "code",
   "execution_count": 7,
   "metadata": {
    "ExecuteTime": {
     "end_time": "2021-12-07T22:49:49.985259Z",
     "start_time": "2021-12-07T22:49:49.981302Z"
    }
   },
   "outputs": [],
   "source": [
    "# computes structural features for each node\n",
    "degree = nx.degree(G)\n",
    "weighted_degree = nx.degree(G,weight='coauthorship')"
   ]
  },
  {
   "cell_type": "code",
   "execution_count": 271,
   "metadata": {
    "ExecuteTime": {
     "end_time": "2021-11-29T03:02:48.053501Z",
     "start_time": "2021-11-29T03:02:09.751688Z"
    }
   },
   "outputs": [],
   "source": [
    "core_number = nx.core_number(G)"
   ]
  },
  {
   "cell_type": "code",
   "execution_count": 8,
   "metadata": {
    "ExecuteTime": {
     "end_time": "2021-12-07T22:49:59.552480Z",
     "start_time": "2021-12-07T22:49:53.111784Z"
    }
   },
   "outputs": [],
   "source": [
    "onion_number = nx.onion_layers(G)"
   ]
  },
  {
   "cell_type": "code",
   "execution_count": 274,
   "metadata": {
    "ExecuteTime": {
     "end_time": "2021-11-29T03:34:34.674820Z",
     "start_time": "2021-11-29T03:27:11.538403Z"
    }
   },
   "outputs": [],
   "source": [
    "clustering_coef = nx.clustering(G)"
   ]
  },
  {
   "cell_type": "code",
   "execution_count": 280,
   "metadata": {
    "ExecuteTime": {
     "end_time": "2021-11-29T11:00:52.000192Z",
     "start_time": "2021-11-29T09:31:47.783890Z"
    }
   },
   "outputs": [],
   "source": [
    "clustering_coef_coauthorship = nx.clustering(G,weight='coauthorship')"
   ]
  },
  {
   "cell_type": "code",
   "execution_count": 272,
   "metadata": {
    "ExecuteTime": {
     "end_time": "2021-11-29T03:26:55.874749Z",
     "start_time": "2021-11-29T03:02:48.058626Z"
    }
   },
   "outputs": [],
   "source": [
    "betweeness_coef = nx.betweenness_centrality(G, k=256)"
   ]
  },
  {
   "cell_type": "code",
   "execution_count": 285,
   "metadata": {
    "ExecuteTime": {
     "end_time": "2021-11-29T12:24:45.033096Z",
     "start_time": "2021-11-29T11:53:14.393640Z"
    }
   },
   "outputs": [],
   "source": [
    "betweeness_coef_coauthorship = nx.betweenness_centrality(G, k=256, weight='coauthorship')"
   ]
  },
  {
   "cell_type": "code",
   "execution_count": 273,
   "metadata": {
    "ExecuteTime": {
     "end_time": "2021-11-29T03:27:11.538403Z",
     "start_time": "2021-11-29T03:26:55.874749Z"
    }
   },
   "outputs": [],
   "source": [
    "centrality = nx.eigenvector_centrality(G)"
   ]
  },
  {
   "cell_type": "code",
   "execution_count": 282,
   "metadata": {
    "ExecuteTime": {
     "end_time": "2021-11-29T11:06:32.973115Z",
     "start_time": "2021-11-29T11:05:42.318498Z"
    }
   },
   "outputs": [],
   "source": [
    "centrality_coauthorship = nx.eigenvector_centrality(G,weight='coauthorship')"
   ]
  },
  {
   "cell_type": "code",
   "execution_count": 287,
   "metadata": {
    "ExecuteTime": {
     "end_time": "2021-11-29T12:33:07.366073Z",
     "start_time": "2021-11-29T12:31:07.211815Z"
    }
   },
   "outputs": [],
   "source": [
    "page_rank = nx.pagerank(G, alpha=0.7)"
   ]
  },
  {
   "cell_type": "code",
   "execution_count": 289,
   "metadata": {
    "ExecuteTime": {
     "end_time": "2021-11-29T12:54:41.501965Z",
     "start_time": "2021-11-29T12:53:03.424524Z"
    }
   },
   "outputs": [],
   "source": [
    "page_rank_coauthorship = nx.pagerank(G,alpha=0.7,weight='coauthorship')"
   ]
  },
  {
   "cell_type": "code",
   "execution_count": 290,
   "metadata": {
    "ExecuteTime": {
     "end_time": "2021-11-29T12:55:55.028417Z",
     "start_time": "2021-11-29T12:55:51.268630Z"
    }
   },
   "outputs": [],
   "source": [
    "graph_features = pd.DataFrame()\n",
    "list_nodes = list(G.nodes())\n",
    "\n",
    "graph_features[\"author_id\"] = list_nodes\n",
    "\n",
    "# features of the non-weighted graph\n",
    "graph_features['core_number'] = [core_number[node] for node in list_nodes]\n",
    "\n",
    "graph_features['clustering_coef'] = [clustering_coef[node] for node in list_nodes]\n",
    "graph_features['betweeness_coef'] = [betweeness_coef[node] for node in list_nodes]\n",
    "graph_features['centrality'] = [centrality[node] for node in list_nodes]\n",
    "graph_features['page_rank'] = [page_rank[node] for node in list_nodes]\n",
    "\n",
    "# features of the weighted graph\n",
    "graph_features['clustering_coef_coauthorship'] = [clustering_coef_coauthorship[node] for node in list_nodes]\n",
    "graph_features['betweeness_coef_coauthorship'] = [betweeness_coef_coauthorship[node] for node in list_nodes]\n",
    "graph_features['centrality_coauthorship'] = [centrality_coauthorship[node] for node in list_nodes]\n",
    "graph_features['page_rank_coauthorship'] = [page_rank_coauthorship[node] for node in list_nodes]\n",
    "\n",
    "graph_features.to_csv(\"../Data/graph_features.csv\",index=False)"
   ]
  },
  {
   "cell_type": "markdown",
   "metadata": {},
   "source": [
    "### 5. Extracting other graph features\n",
    "\n",
    "To the previous graph features we'all the degree, the weighted degree and the onion number (alternative to the core number). This second version will be used to train all the models, specially the LightGBM. The first version will be used with the Feed-Forward Neural Network model. "
   ]
  },
  {
   "cell_type": "code",
   "execution_count": 5,
   "metadata": {
    "ExecuteTime": {
     "end_time": "2021-12-07T22:49:35.804456Z",
     "start_time": "2021-12-07T22:49:29.814472Z"
    }
   },
   "outputs": [],
   "source": [
    "# read the version 1 of the edge list\n",
    "G = nx.read_edgelist('../Data/coauthorship.edgelist', delimiter=' ', nodetype=int)\n",
    "list_nodes = list(G.nodes())"
   ]
  },
  {
   "cell_type": "code",
   "execution_count": 9,
   "metadata": {
    "ExecuteTime": {
     "end_time": "2021-12-07T22:50:06.523639Z",
     "start_time": "2021-12-07T22:50:03.634450Z"
    }
   },
   "outputs": [],
   "source": [
    "# read the version 1 of graph features\n",
    "dict_dtype = {'author_id':np.int64,'core_number':np.float32,'clustering_coef':np.float32,\n",
    "             'betweeness_coef':np.float32,'centrality':np.float32,'page_rank':np.float32,\n",
    "              'clustering_coef_coauthorship':np.float32,'betweeness_coef_coauthorship':np.float32,\n",
    "              'centrality_coauthorship':np.float32,'page_rank_coauthorship':np.float32}\n",
    "graph_features=pd.read_csv(\"../Data/graph_features.csv\", dtype=dict_dtype)\n",
    "\n",
    "# add the new features\n",
    "graph_features['degree'] = [degree[node] for node in list_nodes]\n",
    "graph_features['onion_number'] = [onion_number[node] for node in list_nodes]\n",
    "graph_features['weighted_degree'] = [weighted_degree[node] for node in list_nodes]\n",
    "\n",
    "# save the version 2 of graph features\n",
    "graph_features.to_csv(\"..Data/graph_features_v2.csv\",index=False)"
   ]
  },
  {
   "cell_type": "code",
   "execution_count": null,
   "metadata": {},
   "outputs": [],
   "source": []
  }
 ],
 "metadata": {
  "kernelspec": {
   "display_name": "Python 3",
   "language": "python",
   "name": "python3"
  },
  "language_info": {
   "codemirror_mode": {
    "name": "ipython",
    "version": 3
   },
   "file_extension": ".py",
   "mimetype": "text/x-python",
   "name": "python",
   "nbconvert_exporter": "python",
   "pygments_lexer": "ipython3",
   "version": "3.7.6"
  },
  "latex_envs": {
   "LaTeX_envs_menu_present": true,
   "autoclose": false,
   "autocomplete": false,
   "bibliofile": "biblio.bib",
   "cite_by": "apalike",
   "current_citInitial": 1,
   "eqLabelWithNumbers": true,
   "eqNumInitial": 1,
   "hotkeys": {
    "equation": "Ctrl-E",
    "itemize": "Ctrl-I"
   },
   "labels_anchors": false,
   "latex_user_defs": false,
   "report_style_numbering": false,
   "user_envs_cfg": false
  }
 },
 "nbformat": 4,
 "nbformat_minor": 4
}
